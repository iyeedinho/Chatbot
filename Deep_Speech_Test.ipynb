{
  "nbformat": 4,
  "nbformat_minor": 0,
  "metadata": {
    "colab": {
      "name": "Deep_Speech_Test.ipynb",
      "provenance": [],
      "collapsed_sections": [],
      "toc_visible": true,
      "authorship_tag": "ABX9TyP86XheM+6tGTYSzX6tlccQ",
      "include_colab_link": true
    },
    "kernelspec": {
      "name": "python3",
      "display_name": "Python 3"
    },
    "accelerator": "GPU"
  },
  "cells": [
    {
      "cell_type": "markdown",
      "metadata": {
        "id": "view-in-github",
        "colab_type": "text"
      },
      "source": [
        "<a href=\"https://colab.research.google.com/github/iyeedinho/First-Chatbot-/blob/master/Deep_Speech_Test.ipynb\" target=\"_parent\"><img src=\"https://colab.research.google.com/assets/colab-badge.svg\" alt=\"Open In Colab\"/></a>"
      ]
    },
    {
      "cell_type": "markdown",
      "metadata": {
        "id": "ZgCI8GI79YGP",
        "colab_type": "text"
      },
      "source": [
        "# Deep Speech ENG"
      ]
    },
    {
      "cell_type": "code",
      "metadata": {
        "id": "VXMuvTufAOdY",
        "colab_type": "code",
        "outputId": "cdd86c38-bffe-442d-8a64-1bd04977ea88",
        "colab": {
          "base_uri": "https://localhost:8080/",
          "height": 513
        }
      },
      "source": [
        "#Install python3 venev\n",
        "! apt-get install python3-venv"
      ],
      "execution_count": 8,
      "outputs": [
        {
          "output_type": "stream",
          "text": [
            "Reading package lists... Done\n",
            "Building dependency tree       \n",
            "Reading state information... Done\n",
            "The following additional packages will be installed:\n",
            "  python-pip-whl python3.6-venv\n",
            "The following NEW packages will be installed:\n",
            "  python-pip-whl python3-venv python3.6-venv\n",
            "0 upgraded, 3 newly installed, 0 to remove and 31 not upgraded.\n",
            "Need to get 1,660 kB of archives.\n",
            "After this operation, 1,901 kB of additional disk space will be used.\n",
            "Get:1 http://archive.ubuntu.com/ubuntu bionic-updates/universe amd64 python-pip-whl all 9.0.1-2.3~ubuntu1.18.04.1 [1,653 kB]\n",
            "Get:2 http://archive.ubuntu.com/ubuntu bionic-updates/universe amd64 python3.6-venv amd64 3.6.9-1~18.04ubuntu1 [6,188 B]\n",
            "Get:3 http://archive.ubuntu.com/ubuntu bionic-updates/universe amd64 python3-venv amd64 3.6.7-1~18.04 [1,208 B]\n",
            "Fetched 1,660 kB in 0s (13.0 MB/s)\n",
            "Selecting previously unselected package python-pip-whl.\n",
            "(Reading database ... 144433 files and directories currently installed.)\n",
            "Preparing to unpack .../python-pip-whl_9.0.1-2.3~ubuntu1.18.04.1_all.deb ...\n",
            "Unpacking python-pip-whl (9.0.1-2.3~ubuntu1.18.04.1) ...\n",
            "Selecting previously unselected package python3.6-venv.\n",
            "Preparing to unpack .../python3.6-venv_3.6.9-1~18.04ubuntu1_amd64.deb ...\n",
            "Unpacking python3.6-venv (3.6.9-1~18.04ubuntu1) ...\n",
            "Selecting previously unselected package python3-venv.\n",
            "Preparing to unpack .../python3-venv_3.6.7-1~18.04_amd64.deb ...\n",
            "Unpacking python3-venv (3.6.7-1~18.04) ...\n",
            "Setting up python-pip-whl (9.0.1-2.3~ubuntu1.18.04.1) ...\n",
            "Setting up python3.6-venv (3.6.9-1~18.04ubuntu1) ...\n",
            "Setting up python3-venv (3.6.7-1~18.04) ...\n",
            "Processing triggers for man-db (2.8.3-2ubuntu0.1) ...\n"
          ],
          "name": "stdout"
        }
      ]
    },
    {
      "cell_type": "code",
      "metadata": {
        "id": "mY-vo9Te9WeS",
        "colab_type": "code",
        "colab": {}
      },
      "source": [
        "# Create virtual environment named ds06 \n",
        "! python3 -m venv ./some/pyenv/dir/path/ds06\n",
        "# Switch to virtual environment\n",
        "! source ./some/pyenv/dir/path/ds06/bin/activate"
      ],
      "execution_count": 0,
      "outputs": []
    },
    {
      "cell_type": "code",
      "metadata": {
        "id": "8LTvLwXL--X9",
        "colab_type": "code",
        "outputId": "cffd4623-07ab-49f7-8e1c-3a8123ba60f3",
        "colab": {
          "base_uri": "https://localhost:8080/",
          "height": 394
        }
      },
      "source": [
        "# Install DeepSpeech\n",
        "! pip3 install deepspeech==0.6.1\n",
        "#Download and unzip en-US models\n",
        "! mkdir -p ./some/workspace/path/ds06\n",
        "! cd ./some/workspace/path/ds06\n",
        "! curl -LO https://github.com/mozilla/DeepSpeech/releases/download/v0.6.1/deepspeech-0.6.1-models.tar.gz\n",
        "! tar -xvzf deepspeech-0.6.1-models.tar.gz"
      ],
      "execution_count": 10,
      "outputs": [
        {
          "output_type": "stream",
          "text": [
            "Collecting deepspeech==0.6.1\n",
            "\u001b[?25l  Downloading https://files.pythonhosted.org/packages/62/8b/82512dbb0a70a6b3ce11d3ee9165a8a2d5830f9e42f631b640685e5045dc/deepspeech-0.6.1-cp36-cp36m-manylinux1_x86_64.whl (9.6MB)\n",
            "\u001b[K     |████████████████████████████████| 9.6MB 6.8MB/s \n",
            "\u001b[?25hRequirement already satisfied: numpy>=1.7.0 in /usr/local/lib/python3.6/dist-packages (from deepspeech==0.6.1) (1.18.4)\n",
            "Installing collected packages: deepspeech\n",
            "Successfully installed deepspeech-0.6.1\n",
            "  % Total    % Received % Xferd  Average Speed   Time    Time     Time  Current\n",
            "                                 Dload  Upload   Total   Spent    Left  Speed\n",
            "100   641  100   641    0     0   2584      0 --:--:-- --:--:-- --:--:--  2584\n",
            "100 1172M  100 1172M    0     0  33.6M      0  0:00:34  0:00:34 --:--:-- 34.8M\n",
            "._deepspeech-0.6.1-models\n",
            "deepspeech-0.6.1-models/\n",
            "deepspeech-0.6.1-models/._lm.binary\n",
            "deepspeech-0.6.1-models/lm.binary\n",
            "deepspeech-0.6.1-models/._output_graph.pbmm\n",
            "deepspeech-0.6.1-models/output_graph.pbmm\n",
            "deepspeech-0.6.1-models/._output_graph.pb\n",
            "deepspeech-0.6.1-models/output_graph.pb\n",
            "deepspeech-0.6.1-models/._trie\n",
            "deepspeech-0.6.1-models/trie\n",
            "deepspeech-0.6.1-models/output_graph.tflite\n"
          ],
          "name": "stdout"
        }
      ]
    },
    {
      "cell_type": "code",
      "metadata": {
        "id": "iCCmCdoxdQbq",
        "colab_type": "code",
        "outputId": "ea7b1451-a16a-4490-e312-b7d67160b967",
        "colab": {
          "base_uri": "https://localhost:8080/",
          "height": 153
        }
      },
      "source": [
        "! mkdir -p ./some/workspace/path/ds06-fr\n",
        "! cd ./some/workspace/path/ds06-fr\n",
        "! curl -LO https://github.com/Common-Voice/commonvoice-fr/releases/download/v0.6.0-fr-0.4/model_tensorflow_fr.tar.xz\n",
        "! tar -xvf model_tensorflow_fr.tar.xz"
      ],
      "execution_count": 6,
      "outputs": [
        {
          "output_type": "stream",
          "text": [
            "  % Total    % Received % Xferd  Average Speed   Time    Time     Time  Current\n",
            "                                 Dload  Upload   Total   Spent    Left  Speed\n",
            "100   639  100   639    0     0   3028      0 --:--:-- --:--:-- --:--:--  3028\n",
            "100  730M  100  730M    0     0  33.3M      0  0:00:21  0:00:21 --:--:-- 35.7M\n",
            "output_graph.pbmm\n",
            "alphabet.txt\n",
            "lm.binary\n",
            "trie\n"
          ],
          "name": "stdout"
        }
      ]
    },
    {
      "cell_type": "code",
      "metadata": {
        "id": "EQYr0UDWAtqv",
        "colab_type": "code",
        "outputId": "48364ae2-0b1d-48ab-8a3e-bb20620b4b71",
        "colab": {
          "base_uri": "https://localhost:8080/",
          "height": 119
        }
      },
      "source": [
        "! ls -l ./deepspeech-0.6.1-models/"
      ],
      "execution_count": 0,
      "outputs": [
        {
          "output_type": "stream",
          "text": [
            "total 1350660\n",
            "-rw-r--r-- 1 501 staff 945699324 Dec  3 06:51 lm.binary\n",
            "-rw-r--r-- 1 501 staff 188914896 Dec  3 09:03 output_graph.pb\n",
            "-rw-r--r-- 1 501 staff 188915850 Dec  3 09:49 output_graph.pbmm\n",
            "-rw-r--r-- 1 501 staff  47331120 Jan 10 17:21 output_graph.tflite\n",
            "-rw-r--r-- 1 501 staff  12200736 Dec  3 06:51 trie\n"
          ],
          "name": "stdout"
        }
      ]
    },
    {
      "cell_type": "code",
      "metadata": {
        "id": "kotEn8dwBaCM",
        "colab_type": "code",
        "outputId": "61a827da-01de-4d36-d960-3c1a05551adc",
        "colab": {
          "base_uri": "https://localhost:8080/",
          "height": 187
        }
      },
      "source": [
        "# Download and unzip some audio samples to test setup\n",
        "! curl -LO https://github.com/mozilla/DeepSpeech/releases/download/v0.6.1/audio-0.6.1.tar.gz\n",
        "! tar -xvzf audio-0.6.1.tar.gz\n"
      ],
      "execution_count": 15,
      "outputs": [
        {
          "output_type": "stream",
          "text": [
            "  % Total    % Received % Xferd  Average Speed   Time    Time     Time  Current\n",
            "                                 Dload  Upload   Total   Spent    Left  Speed\n",
            "100   629  100   629    0     0    927      0 --:--:-- --:--:-- --:--:--   926\n",
            "100  192k  100  192k    0     0  94474      0  0:00:02  0:00:02 --:--:--  482k\n",
            "audio/\n",
            "audio/2830-3980-0043.wav\n",
            "audio/Attribution.txt\n",
            "audio/4507-16021-0012.wav\n",
            "audio/8455-210777-0068.wav\n",
            "audio/License.txt\n"
          ],
          "name": "stdout"
        }
      ]
    },
    {
      "cell_type": "code",
      "metadata": {
        "id": "Vl4Nj-Y-BsRV",
        "colab_type": "code",
        "outputId": "d881ebcf-9de1-437f-a5b6-37dbbf7868c6",
        "colab": {
          "base_uri": "https://localhost:8080/",
          "height": 119
        }
      },
      "source": [
        "! ls -l ./audio/"
      ],
      "execution_count": 0,
      "outputs": [
        {
          "output_type": "stream",
          "text": [
            "total 260\n",
            "-rw-r--r-- 1 501 staff 63244 Nov 18  2017 2830-3980-0043.wav\n",
            "-rw-r--r-- 1 501 staff 87564 Nov 18  2017 4507-16021-0012.wav\n",
            "-rw-r--r-- 1 501 staff 82924 Nov 18  2017 8455-210777-0068.wav\n",
            "-rw-r--r-- 1 501 staff   340 May 14  2018 Attribution.txt\n",
            "-rw-r--r-- 1 501 staff 18652 May 12  2018 License.txt\n"
          ],
          "name": "stdout"
        }
      ]
    },
    {
      "cell_type": "code",
      "metadata": {
        "id": "AucQtAoMBz23",
        "colab_type": "code",
        "outputId": "68fbc900-f5a8-43e1-809e-004775e1feeb",
        "colab": {
          "base_uri": "https://localhost:8080/",
          "height": 224
        }
      },
      "source": [
        "# Test deepspeech\n",
        "! deepspeech --model deepspeech-0.6.1-models/output_graph.pb --lm deepspeech-0.6.1-models/lm.binary --trie ./deepspeech-0.6.1-models/trie --audio ./audio/2830-3980-0043.wav\n",
        "# 2éme test\n",
        "#! deepspeech --model deepspeech-0.6.1-models/output_graph.pb --lm deepspeech-0.6.1-models/lm.binary --trie ./deepspeech-0.6.1-models/trie --audio ./audio/4507-16021-0012.wav\n",
        "#3éme test\n",
        "#! deepspeech --model deepspeech-0.6.1-models/output_graph.pb --lm deepspeech-0.6.1-models/lm.binary --trie ./deepspeech-0.6.1-models/trie --audio ./audio/8455-210777-0068.wav"
      ],
      "execution_count": 18,
      "outputs": [
        {
          "output_type": "stream",
          "text": [
            "Loading model from file deepspeech-0.6.1-models/output_graph.pb\n",
            "TensorFlow: v1.14.0-21-ge77504a\n",
            "DeepSpeech: v0.6.1-0-g3df20fe\n",
            "Warning: reading entire model file into memory. Transform model file into an mmapped graph to reduce heap usage.\n",
            "2020-05-17 04:08:03.921026: I tensorflow/core/platform/cpu_feature_guard.cc:142] Your CPU supports instructions that this TensorFlow binary was not compiled to use: AVX2 FMA\n",
            "Loaded model in 0.115s.\n",
            "Loading language model from files deepspeech-0.6.1-models/lm.binary ./deepspeech-0.6.1-models/trie\n",
            "Loaded language model in 0.000188s.\n",
            "Running inference.\n",
            "experience proof less\n",
            "Inference took 2.225s for 1.975s audio file.\n"
          ],
          "name": "stdout"
        }
      ]
    },
    {
      "cell_type": "markdown",
      "metadata": {
        "id": "DgQxJpTJQZ64",
        "colab_type": "text"
      },
      "source": [
        "# DeepSpeech API"
      ]
    },
    {
      "cell_type": "code",
      "metadata": {
        "id": "vRh_B7TkQbbf",
        "colab_type": "code",
        "colab": {}
      },
      "source": [
        "#create a model object\n",
        "import deepspeech\n",
        "model_file_path = 'output_graph.pbmm'\n",
        "beam_width = 500\n",
        "model = deepspeech.Model(model_file_path, beam_width)"
      ],
      "execution_count": 0,
      "outputs": []
    },
    {
      "cell_type": "code",
      "metadata": {
        "id": "Quvc4PbXQm7X",
        "colab_type": "code",
        "outputId": "d87b23bc-512e-4335-8241-ed3638baf671",
        "colab": {
          "base_uri": "https://localhost:8080/",
          "height": 34
        }
      },
      "source": [
        "#adding a language model for better accuracy\n",
        "lm_file_path = 'lm.binary'\n",
        "trie_file_path = 'trie'\n",
        "lm_alpha = 0.65\n",
        "lm_beta = 1.45\n",
        "model.enableDecoderWithLM(lm_file_path, trie_file_path, lm_alpha, lm_beta)\n",
        "#Once you have the model object, you can use either batch or streaming speech-to-text API."
      ],
      "execution_count": 12,
      "outputs": [
        {
          "output_type": "execute_result",
          "data": {
            "text/plain": [
              "0"
            ]
          },
          "metadata": {
            "tags": []
          },
          "execution_count": 12
        }
      ]
    },
    {
      "cell_type": "markdown",
      "metadata": {
        "id": "s6fmo9PkQ16o",
        "colab_type": "text"
      },
      "source": [
        "**`Batch API`**"
      ]
    },
    {
      "cell_type": "code",
      "metadata": {
        "id": "1ntebFRgIDTb",
        "colab_type": "code",
        "colab": {
          "base_uri": "https://localhost:8080/",
          "height": 85
        },
        "outputId": "54dd3dff-d6af-43d5-e9c3-2fca47eebac9"
      },
      "source": [
        "!pip install SoundFile\n",
        "import librosa\n",
        "import soundfile as sf\n",
        "x,_ = librosa.load('./lesmis_0009.wav', sr=16000)\n",
        "sf.write('tmp.wav', x, 16000)\n",
        "wave.open('tmp.wav','r')\n"
      ],
      "execution_count": 16,
      "outputs": [
        {
          "output_type": "stream",
          "text": [
            "Requirement already satisfied: SoundFile in /usr/local/lib/python3.6/dist-packages (0.10.3.post1)\n",
            "Requirement already satisfied: cffi>=1.0 in /usr/local/lib/python3.6/dist-packages (from SoundFile) (1.14.0)\n",
            "Requirement already satisfied: pycparser in /usr/local/lib/python3.6/dist-packages (from cffi>=1.0->SoundFile) (2.20)\n"
          ],
          "name": "stdout"
        },
        {
          "output_type": "execute_result",
          "data": {
            "text/plain": [
              "<wave.Wave_read at 0x7fe5d4029c88>"
            ]
          },
          "metadata": {
            "tags": []
          },
          "execution_count": 16
        }
      ]
    },
    {
      "cell_type": "code",
      "metadata": {
        "id": "mtXNHJGpQ2ZA",
        "colab_type": "code",
        "outputId": "46fccc12-85bd-4504-fc13-96ba2c0fb77f",
        "colab": {
          "base_uri": "https://localhost:8080/",
          "height": 68
        }
      },
      "source": [
        "#to use the batch API, the first step is to read the audio file\n",
        "import wave\n",
        "filename = 'tmp.wav'\n",
        "w = wave.open(filename, 'r')\n",
        "rate = w.getframerate()\n",
        "frames = w.getnframes()\n",
        "buffer = w.readframes(frames)\n",
        "print(rate)\n",
        "\n",
        "print(model.sampleRate())\n",
        "type(buffer)"
      ],
      "execution_count": 17,
      "outputs": [
        {
          "output_type": "stream",
          "text": [
            "16000\n",
            "16000\n"
          ],
          "name": "stdout"
        },
        {
          "output_type": "execute_result",
          "data": {
            "text/plain": [
              "bytes"
            ]
          },
          "metadata": {
            "tags": []
          },
          "execution_count": 17
        }
      ]
    },
    {
      "cell_type": "code",
      "metadata": {
        "id": "7C0wwN15RZAD",
        "colab_type": "code",
        "outputId": "569e3147-82a7-4335-cfd1-7cbf2eeffd26",
        "colab": {
          "base_uri": "https://localhost:8080/",
          "height": 34
        }
      },
      "source": [
        "#Like we see the buffer is a byte array and DeepSpeech model expects 16-bit int array. \n",
        "#So we need to convert it\n",
        "import numpy as np\n",
        "data16 = np.frombuffer(buffer, dtype=np.int16)\n",
        "type(data16)\n",
        "\n"
      ],
      "execution_count": 18,
      "outputs": [
        {
          "output_type": "execute_result",
          "data": {
            "text/plain": [
              "numpy.ndarray"
            ]
          },
          "metadata": {
            "tags": []
          },
          "execution_count": 18
        }
      ]
    },
    {
      "cell_type": "code",
      "metadata": {
        "id": "iU16L8EPR3EK",
        "colab_type": "code",
        "outputId": "5e8cb50e-b40d-4f29-9921-f5b7958eff42",
        "colab": {
          "base_uri": "https://localhost:8080/",
          "height": 54
        }
      },
      "source": [
        "text = model.stt(data16)\n",
        "print(text)"
      ],
      "execution_count": 19,
      "outputs": [
        {
          "output_type": "stream",
          "text": [
            "ce sont là des journées lugubre car il y a toujours une certaine entité de droit meme dans cette démence il y a du suicide dans ce duel et ces mots\n"
          ],
          "name": "stdout"
        }
      ]
    },
    {
      "cell_type": "markdown",
      "metadata": {
        "id": "xZvSGzWzX4kF",
        "colab_type": "text"
      },
      "source": [
        "**`Streaming API`**"
      ]
    },
    {
      "cell_type": "code",
      "metadata": {
        "id": "by1kS52zX_0P",
        "colab_type": "code",
        "outputId": "c6d7c0f2-c208-4b17-efbe-5e3fe105d92c",
        "colab": {
          "base_uri": "https://localhost:8080/",
          "height": 394
        }
      },
      "source": [
        "#Open a streaming session:\n",
        "context = model.createStream()\n",
        "#Repeatedly feed chunks of speech buffer, and get interim results if desired:\n",
        "buffer_len = len(buffer)\n",
        "offset = 0\n",
        "batch_size = 16384\n",
        "text = ''\n",
        "while offset < buffer_len:\n",
        "  end_offset = offset + batch_size\n",
        "  chunk = buffer[offset:end_offset]\n",
        "  data16 = np.frombuffer(chunk, dtype=np.int16)\n",
        "  model.feedAudioContent(context, data16)\n",
        "  text = model.intermediateDecode(context)\n",
        "  print(text)\n",
        "  offset = end_offset\n",
        "#Close the stream and get the final result:\n",
        "text = model.finishStream(context)\n",
        "print(text)"
      ],
      "execution_count": 20,
      "outputs": [
        {
          "output_type": "stream",
          "text": [
            "c\n",
            "ce sont \n",
            "ce sont là des journées du\n",
            "ce sont là des journées du cub\n",
            "ce sont là des journées lugubre c\n",
            "ce sont là des journées lugubre car il y a toujours\n",
            "ce sont là des journées lugubre car il y a toujours une cer\n",
            "ce sont là des journées lugubre car il y a toujours une certaine\n",
            "ce sont là des journées lugubre car il y a toujours une certaine tran\n",
            "ce sont là des journées lugubre car il y a toujours une certaine entité de d\n",
            "ce sont là des journées lugubre car il y a toujours une certaine entité de droit meme d\n",
            "ce sont là des journées lugubre car il y a toujours une certaine entité de droit meme dans cette \n",
            "ce sont là des journées lugubre car il y a toujours une certaine entité de droit meme dans cette démence\n",
            "ce sont là des journées lugubre car il y a toujours une certaine entité de droit meme dans cette démence\n",
            "ce sont là des journées lugubre car il y a toujours une certaine entité de droit meme dans cette démence il y a du s\n",
            "ce sont là des journées lugubre car il y a toujours une certaine entité de droit meme dans cette démence il y a du suicide dans \n",
            "ce sont là des journées lugubre car il y a toujours une certaine entité de droit meme dans cette démence il y a du suicide dans ce du\n",
            "ce sont là des journées lugubre car il y a toujours une certaine entité de droit meme dans cette démence il y a du suicide dans ce duel\n",
            "ce sont là des journées lugubre car il y a toujours une certaine entité de droit meme dans cette démence il y a du suicide dans ce duel et ces\n",
            "ce sont là des journées lugubre car il y a toujours une certaine entité de droit meme dans cette démence il y a du suicide dans ce duel et ces\n",
            "ce sont là des journées lugubre car il y a toujours une certaine entité de droit meme dans cette démence il y a du suicide dans ce duel et ces mots\n"
          ],
          "name": "stdout"
        }
      ]
    },
    {
      "cell_type": "markdown",
      "metadata": {
        "id": "3uaJ6HQnde50",
        "colab_type": "text"
      },
      "source": [
        "# Transcriber"
      ]
    },
    {
      "cell_type": "code",
      "metadata": {
        "id": "xyg4uk_RdeH0",
        "colab_type": "code",
        "outputId": "b124200b-764f-46f3-d3f5-0c3d172585d5",
        "colab": {
          "base_uri": "https://localhost:8080/",
          "height": 751
        }
      },
      "source": [
        "#Install portaudio library\n",
        "!apt install libasound2-dev portaudio19-dev libportaudio2 libportaudiocpp0 ffmpeg\n",
        "#PyAudio is Python bindings for PortAudio\n",
        "! pip3 install pyaudio\n",
        "!pip3 install PyAudio"
      ],
      "execution_count": 21,
      "outputs": [
        {
          "output_type": "stream",
          "text": [
            "Reading package lists... Done\n",
            "Building dependency tree       \n",
            "Reading state information... Done\n",
            "libasound2-dev is already the newest version (1.1.3-5ubuntu0.5).\n",
            "ffmpeg is already the newest version (7:3.4.6-0ubuntu0.18.04.1).\n",
            "Suggested packages:\n",
            "  portaudio19-doc\n",
            "The following NEW packages will be installed:\n",
            "  libportaudio2 libportaudiocpp0 portaudio19-dev\n",
            "0 upgraded, 3 newly installed, 0 to remove and 31 not upgraded.\n",
            "Need to get 184 kB of archives.\n",
            "After this operation, 891 kB of additional disk space will be used.\n",
            "Get:1 http://archive.ubuntu.com/ubuntu bionic/universe amd64 libportaudio2 amd64 19.6.0-1 [64.6 kB]\n",
            "Get:2 http://archive.ubuntu.com/ubuntu bionic/universe amd64 libportaudiocpp0 amd64 19.6.0-1 [15.1 kB]\n",
            "Get:3 http://archive.ubuntu.com/ubuntu bionic/universe amd64 portaudio19-dev amd64 19.6.0-1 [104 kB]\n",
            "Fetched 184 kB in 0s (1,895 kB/s)\n",
            "Selecting previously unselected package libportaudio2:amd64.\n",
            "(Reading database ... 144471 files and directories currently installed.)\n",
            "Preparing to unpack .../libportaudio2_19.6.0-1_amd64.deb ...\n",
            "Unpacking libportaudio2:amd64 (19.6.0-1) ...\n",
            "Selecting previously unselected package libportaudiocpp0:amd64.\n",
            "Preparing to unpack .../libportaudiocpp0_19.6.0-1_amd64.deb ...\n",
            "Unpacking libportaudiocpp0:amd64 (19.6.0-1) ...\n",
            "Selecting previously unselected package portaudio19-dev:amd64.\n",
            "Preparing to unpack .../portaudio19-dev_19.6.0-1_amd64.deb ...\n",
            "Unpacking portaudio19-dev:amd64 (19.6.0-1) ...\n",
            "Setting up libportaudio2:amd64 (19.6.0-1) ...\n",
            "Setting up libportaudiocpp0:amd64 (19.6.0-1) ...\n",
            "Setting up portaudio19-dev:amd64 (19.6.0-1) ...\n",
            "Processing triggers for libc-bin (2.27-3ubuntu1) ...\n",
            "/sbin/ldconfig.real: /usr/local/lib/python3.6/dist-packages/ideep4py/lib/libmkldnn.so.0 is not a symbolic link\n",
            "\n",
            "Collecting pyaudio\n",
            "  Downloading https://files.pythonhosted.org/packages/ab/42/b4f04721c5c5bfc196ce156b3c768998ef8c0ae3654ed29ea5020c749a6b/PyAudio-0.2.11.tar.gz\n",
            "Building wheels for collected packages: pyaudio\n",
            "  Building wheel for pyaudio (setup.py) ... \u001b[?25l\u001b[?25hdone\n",
            "  Created wheel for pyaudio: filename=PyAudio-0.2.11-cp36-cp36m-linux_x86_64.whl size=51624 sha256=2b684a6344fe0cc90a1f68f2aed483b459c9a82cc8db7b5f425167fa51179cbe\n",
            "  Stored in directory: /root/.cache/pip/wheels/f4/a8/a4/292214166c2917890f85b2f72a8e5f13e1ffa527c4200dcede\n",
            "Successfully built pyaudio\n",
            "Installing collected packages: pyaudio\n",
            "Successfully installed pyaudio-0.2.11\n",
            "Requirement already satisfied: PyAudio in /usr/local/lib/python3.6/dist-packages (0.2.11)\n"
          ],
          "name": "stdout"
        }
      ]
    },
    {
      "cell_type": "code",
      "metadata": {
        "id": "uGrDwd0WVPE8",
        "colab_type": "code",
        "colab": {}
      },
      "source": [
        "import pyaudio\n",
        "\n",
        "p = pyaudio.PyAudio()\n",
        "info = p.get_host_api_info_by_index(0)\n",
        "numdevices = info.get('deviceCount')\n",
        "#for each audio device, determine if is an input or an output and add it to the appropriate list and dictionary\n",
        "for i in range (0,numdevices):\n",
        "        if p.get_device_info_by_host_api_device_index(0,i).get('maxInputChannels')>0:\n",
        "                print (\"Input Device id \", i, \" - \", p.get_device_info_by_host_api_device_index(0,i).get('name'))\n",
        "\n",
        "        if p.get_device_info_by_host_api_device_index(0,i).get('maxOutputChannels')>0:\n",
        "                print (\"Output Device id \", i, \" - \", p.get_device_info_by_host_api_device_index(0,i).get('name'))\n",
        "\n",
        "devinfo = p.get_device_info_by_index(1)\n",
        "print (\"Selected device is \",devinfo.get('name'))\n",
        "if p.is_format_supported(44100.0,  # Sample rate\n",
        "                         input_device=devinfo[\"index\"],\n",
        "                         input_channels=devinfo['maxInputChannels'],\n",
        "                         input_format=pyaudio.paInt16):\n",
        "  print ('Yay!')\n",
        "p.terminate()"
      ],
      "execution_count": 0,
      "outputs": []
    },
    {
      "cell_type": "code",
      "metadata": {
        "id": "hlkDJob5V2lM",
        "colab_type": "code",
        "colab": {}
      },
      "source": [
        "text_so_far = ''\n",
        "def process_audio(in_data, frame_count, time_info, status):\n",
        "    global text_so_far\n",
        "    data16 = np.frombuffer(in_data, dtype=np.int16)\n",
        "    model.feedAudioContent(context, data16)\n",
        "    text = model.intermediateDecode(context)\n",
        "    if text != text_so_far:\n",
        "        print('Interim text = {}'.format(text))\n",
        "        text_so_far = text\n",
        "    return (in_data, pyaudio.paContinue)"
      ],
      "execution_count": 0,
      "outputs": []
    },
    {
      "cell_type": "code",
      "metadata": {
        "id": "8emVgMmODjlJ",
        "colab_type": "code",
        "outputId": "4988cd5a-1d7e-44ba-b404-3765cdb8d112",
        "colab": {
          "base_uri": "https://localhost:8080/",
          "height": 394
        }
      },
      "source": [
        "# A call back process\n",
        "text_so_far = ''\n",
        "def process_audio(in_data, frame_count, time_info, status):\n",
        "    global text_so_far\n",
        "    data16 = np.frombuffer(in_data, dtype=np.int16)\n",
        "    model.feedAudioContent(context, data16)\n",
        "    text = model.intermediateDecode(context)\n",
        "    if text != text_so_far:\n",
        "        print('Interim text = {}'.format(text))\n",
        "        text_so_far = text\n",
        "    return (in_data, pyaudio.paContinue)\n",
        "\n",
        "#create a PyAudio input stream with this callback\n",
        "import pyaudio\n",
        "audio = pyaudio.PyAudio()\n",
        "stream = audio.open(\n",
        "    format=pyaudio.paInt16,\n",
        "    channels=1,\n",
        "    rate=16000,\n",
        "    input=True,\n",
        "    frames_per_buffer=1024,\n",
        "    stream_callback=process_audio)\n",
        "\n",
        "#print('Please start speaking, when done press Ctrl-C ...')\n",
        "#stream.start_stream()\n",
        "\n",
        "#Finally, you need to print the final result and clean up when a user ends recording by pressing Ctrl-C\n",
        "\"\"\"try: \n",
        "    while stream.is_active():\n",
        "        time.sleep(0.1)\n",
        "except KeyboardInterrupt:\n",
        "    # PyAudio\n",
        "    stream.stop_stream()\n",
        "    stream.close()\n",
        "    audio.terminate()\n",
        "    print('Finished recording.')\n",
        "    # DeepSpeech\n",
        "    text = model.finishStream(context)\n",
        "    print('Final text = {}'.format(text))\"\"\""
      ],
      "execution_count": 26,
      "outputs": [
        {
          "output_type": "error",
          "ename": "OSError",
          "evalue": "ignored",
          "traceback": [
            "\u001b[0;31m---------------------------------------------------------------------------\u001b[0m",
            "\u001b[0;31mOSError\u001b[0m                                   Traceback (most recent call last)",
            "\u001b[0;32m<ipython-input-26-02d4c1629432>\u001b[0m in \u001b[0;36m<module>\u001b[0;34m()\u001b[0m\n\u001b[1;32m     20\u001b[0m     \u001b[0minput\u001b[0m\u001b[0;34m=\u001b[0m\u001b[0;32mTrue\u001b[0m\u001b[0;34m,\u001b[0m\u001b[0;34m\u001b[0m\u001b[0;34m\u001b[0m\u001b[0m\n\u001b[1;32m     21\u001b[0m     \u001b[0mframes_per_buffer\u001b[0m\u001b[0;34m=\u001b[0m\u001b[0;36m1024\u001b[0m\u001b[0;34m,\u001b[0m\u001b[0;34m\u001b[0m\u001b[0;34m\u001b[0m\u001b[0m\n\u001b[0;32m---> 22\u001b[0;31m     stream_callback=process_audio)\n\u001b[0m\u001b[1;32m     23\u001b[0m \u001b[0;34m\u001b[0m\u001b[0m\n\u001b[1;32m     24\u001b[0m \u001b[0;31m#print('Please start speaking, when done press Ctrl-C ...')\u001b[0m\u001b[0;34m\u001b[0m\u001b[0;34m\u001b[0m\u001b[0;34m\u001b[0m\u001b[0m\n",
            "\u001b[0;32m/usr/local/lib/python3.6/dist-packages/pyaudio.py\u001b[0m in \u001b[0;36mopen\u001b[0;34m(self, *args, **kwargs)\u001b[0m\n\u001b[1;32m    748\u001b[0m         \"\"\"\n\u001b[1;32m    749\u001b[0m \u001b[0;34m\u001b[0m\u001b[0m\n\u001b[0;32m--> 750\u001b[0;31m         \u001b[0mstream\u001b[0m \u001b[0;34m=\u001b[0m \u001b[0mStream\u001b[0m\u001b[0;34m(\u001b[0m\u001b[0mself\u001b[0m\u001b[0;34m,\u001b[0m \u001b[0;34m*\u001b[0m\u001b[0margs\u001b[0m\u001b[0;34m,\u001b[0m \u001b[0;34m**\u001b[0m\u001b[0mkwargs\u001b[0m\u001b[0;34m)\u001b[0m\u001b[0;34m\u001b[0m\u001b[0;34m\u001b[0m\u001b[0m\n\u001b[0m\u001b[1;32m    751\u001b[0m         \u001b[0mself\u001b[0m\u001b[0;34m.\u001b[0m\u001b[0m_streams\u001b[0m\u001b[0;34m.\u001b[0m\u001b[0madd\u001b[0m\u001b[0;34m(\u001b[0m\u001b[0mstream\u001b[0m\u001b[0;34m)\u001b[0m\u001b[0;34m\u001b[0m\u001b[0;34m\u001b[0m\u001b[0m\n\u001b[1;32m    752\u001b[0m         \u001b[0;32mreturn\u001b[0m \u001b[0mstream\u001b[0m\u001b[0;34m\u001b[0m\u001b[0;34m\u001b[0m\u001b[0m\n",
            "\u001b[0;32m/usr/local/lib/python3.6/dist-packages/pyaudio.py\u001b[0m in \u001b[0;36m__init__\u001b[0;34m(self, PA_manager, rate, channels, format, input, output, input_device_index, output_device_index, frames_per_buffer, start, input_host_api_specific_stream_info, output_host_api_specific_stream_info, stream_callback)\u001b[0m\n\u001b[1;32m    439\u001b[0m \u001b[0;34m\u001b[0m\u001b[0m\n\u001b[1;32m    440\u001b[0m         \u001b[0;31m# calling pa.open returns a stream object\u001b[0m\u001b[0;34m\u001b[0m\u001b[0;34m\u001b[0m\u001b[0;34m\u001b[0m\u001b[0m\n\u001b[0;32m--> 441\u001b[0;31m         \u001b[0mself\u001b[0m\u001b[0;34m.\u001b[0m\u001b[0m_stream\u001b[0m \u001b[0;34m=\u001b[0m \u001b[0mpa\u001b[0m\u001b[0;34m.\u001b[0m\u001b[0mopen\u001b[0m\u001b[0;34m(\u001b[0m\u001b[0;34m**\u001b[0m\u001b[0marguments\u001b[0m\u001b[0;34m)\u001b[0m\u001b[0;34m\u001b[0m\u001b[0;34m\u001b[0m\u001b[0m\n\u001b[0m\u001b[1;32m    442\u001b[0m \u001b[0;34m\u001b[0m\u001b[0m\n\u001b[1;32m    443\u001b[0m         \u001b[0mself\u001b[0m\u001b[0;34m.\u001b[0m\u001b[0m_input_latency\u001b[0m \u001b[0;34m=\u001b[0m \u001b[0mself\u001b[0m\u001b[0;34m.\u001b[0m\u001b[0m_stream\u001b[0m\u001b[0;34m.\u001b[0m\u001b[0minputLatency\u001b[0m\u001b[0;34m\u001b[0m\u001b[0;34m\u001b[0m\u001b[0m\n",
            "\u001b[0;31mOSError\u001b[0m: [Errno -9996] Invalid input device (no default output device)"
          ]
        }
      ]
    }
  ]
}